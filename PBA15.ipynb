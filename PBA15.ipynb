{
 "cells": [
  {
   "cell_type": "raw",
   "id": "942bab61",
   "metadata": {},
   "source": [
    "1.How many seconds are in an hour? Use the interactive interpreter as a calculator and multiply the\n",
    "number of seconds in a minute (60) by the number of minutes in an hour (also 60).\n",
    "ANS-60*60"
   ]
  },
  {
   "cell_type": "raw",
   "id": "b1712f22",
   "metadata": {},
   "source": [
    "2. Assign the result from the previous task (seconds in an hour) to a variable called\n",
    "seconds_per_hour.\n",
    "ANS-seconds_per_hour = 3600"
   ]
  },
  {
   "cell_type": "raw",
   "id": "b28d0507",
   "metadata": {},
   "source": [
    "3. How many seconds do you think there are in a day? Make use of the variables seconds per hour\n",
    "and minutes per hour.\n",
    "ANS- minutes_per_hour = 60\n",
    "seconds_per_hour*24"
   ]
  },
  {
   "cell_type": "raw",
   "id": "43699ebd",
   "metadata": {},
   "source": [
    "4. Calculate seconds per day again, but this time save the result in a variable called seconds_per_day\n",
    "ANS- seconds_per_day = seconds_per_hour*24\n",
    "seconds_per_day"
   ]
  },
  {
   "cell_type": "raw",
   "id": "a6ff9608",
   "metadata": {},
   "source": [
    "5. Divide seconds_per_day by seconds_per_hour. Use floating-point (/) division.\n",
    "ANS- seconds_per_day/seconds_per_hour"
   ]
  },
  {
   "cell_type": "raw",
   "id": "9f0c327a",
   "metadata": {},
   "source": [
    "6. Divide seconds_per_day by seconds_per_hour, using integer (//) division. Did this number agree\n",
    "with the floating-point value from the previous question, aside from the final .0?\n",
    "ANS- seconds_per_day//seconds_per_hour"
   ]
  },
  {
   "cell_type": "code",
   "execution_count": null,
   "id": "83a37aff",
   "metadata": {},
   "outputs": [],
   "source": [
    "7. Write a generator, genPrimes, that returns the sequence of prime numbers on successive calls to\n",
    "its next() method: 2, 3, 5, 7, 11, ...\n",
    "ANS- def getPrimes():\n",
    "    prime = []\n",
    "    n = 2\n",
    "    while True:\n",
    "        \n",
    "        for i in prime:\n",
    "            if n%i==0:\n",
    "                break\n",
    "        else:\n",
    "            prime.append(n)\n",
    "            yield n\n",
    "        n=n+1\n",
    "generator = getPrimes()\n",
    "next(generator)"
   ]
  }
 ],
 "metadata": {
  "kernelspec": {
   "display_name": "Python 3 (ipykernel)",
   "language": "python",
   "name": "python3"
  },
  "language_info": {
   "codemirror_mode": {
    "name": "ipython",
    "version": 3
   },
   "file_extension": ".py",
   "mimetype": "text/x-python",
   "name": "python",
   "nbconvert_exporter": "python",
   "pygments_lexer": "ipython3",
   "version": "3.9.7"
  }
 },
 "nbformat": 4,
 "nbformat_minor": 5
}
